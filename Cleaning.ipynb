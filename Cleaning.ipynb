{
 "cells": [
  {
   "cell_type": "code",
   "execution_count": 122,
   "metadata": {},
   "outputs": [],
   "source": [
    "import pandas as pd\n",
    "from pymongo import MongoClient\n",
    "import re\n",
    "import numpy as np\n",
    "from Functions.location import *\n",
    "from Functions.money import moneyClean"
   ]
  },
  {
   "cell_type": "code",
   "execution_count": 123,
   "metadata": {},
   "outputs": [],
   "source": [
    "client = MongoClient('mongodb://localhost:27017/')\n",
    "db = client.companies"
   ]
  },
  {
   "cell_type": "markdown",
   "metadata": {},
   "source": [
    "#### Here I make a Pymongo query to get just the companies with certain conditions ####"
   ]
  },
  {
   "cell_type": "code",
   "execution_count": 124,
   "metadata": {},
   "outputs": [],
   "source": [
    "companies = db.companies.find({\n",
    "    \"offices\":{\n",
    "        \"$not\":{\n",
    "            \"$size\":0\n",
    "        }\n",
    "    }\n",
    ", \"founded_year\":{\n",
    "    \"$gte\": 2007\n",
    "}\n",
    "}\n",
    ",{\"name\":1, \"founded_year\":1, \"offices\":1, \"category_code\":1, \"total_money_raised\":1, \"deadpooled_year\":1, \"number_of_employees\":1})\n"
   ]
  },
  {
   "cell_type": "markdown",
   "metadata": {},
   "source": [
    "#### Create the dataframe ####"
   ]
  },
  {
   "cell_type": "code",
   "execution_count": 125,
   "metadata": {},
   "outputs": [
    {
     "data": {
      "text/html": [
       "<div>\n",
       "<style scoped>\n",
       "    .dataframe tbody tr th:only-of-type {\n",
       "        vertical-align: middle;\n",
       "    }\n",
       "\n",
       "    .dataframe tbody tr th {\n",
       "        vertical-align: top;\n",
       "    }\n",
       "\n",
       "    .dataframe thead th {\n",
       "        text-align: right;\n",
       "    }\n",
       "</style>\n",
       "<table border=\"1\" class=\"dataframe\">\n",
       "  <thead>\n",
       "    <tr style=\"text-align: right;\">\n",
       "      <th></th>\n",
       "      <th>_id</th>\n",
       "      <th>name</th>\n",
       "      <th>category_code</th>\n",
       "      <th>number_of_employees</th>\n",
       "      <th>founded_year</th>\n",
       "      <th>deadpooled_year</th>\n",
       "      <th>total_money_raised</th>\n",
       "      <th>offices</th>\n",
       "    </tr>\n",
       "  </thead>\n",
       "  <tbody>\n",
       "    <tr>\n",
       "      <th>0</th>\n",
       "      <td>52cdef7c4bab8bd675297d97</td>\n",
       "      <td>Scribd</td>\n",
       "      <td>news</td>\n",
       "      <td>50.0</td>\n",
       "      <td>2007</td>\n",
       "      <td>NaN</td>\n",
       "      <td>$25.8M</td>\n",
       "      <td>[{'description': 'HQ', 'address1': '539 Bryant...</td>\n",
       "    </tr>\n",
       "    <tr>\n",
       "      <th>1</th>\n",
       "      <td>52cdef7c4bab8bd675297d9c</td>\n",
       "      <td>MeetMoi</td>\n",
       "      <td>social</td>\n",
       "      <td>15.0</td>\n",
       "      <td>2007</td>\n",
       "      <td>NaN</td>\n",
       "      <td>$5.58M</td>\n",
       "      <td>[{'description': None, 'address1': '', 'addres...</td>\n",
       "    </tr>\n",
       "    <tr>\n",
       "      <th>2</th>\n",
       "      <td>52cdef7c4bab8bd675297da0</td>\n",
       "      <td>Babelgum</td>\n",
       "      <td>games_video</td>\n",
       "      <td>NaN</td>\n",
       "      <td>2007</td>\n",
       "      <td>2013.0</td>\n",
       "      <td>$13.2M</td>\n",
       "      <td>[{'description': '', 'address1': '', 'address2...</td>\n",
       "    </tr>\n",
       "    <tr>\n",
       "      <th>3</th>\n",
       "      <td>52cdef7c4bab8bd675297daa</td>\n",
       "      <td>Sparter</td>\n",
       "      <td>games_video</td>\n",
       "      <td>NaN</td>\n",
       "      <td>2007</td>\n",
       "      <td>2008.0</td>\n",
       "      <td>$0</td>\n",
       "      <td>[{'description': None, 'address1': None, 'addr...</td>\n",
       "    </tr>\n",
       "    <tr>\n",
       "      <th>4</th>\n",
       "      <td>52cdef7c4bab8bd675297da9</td>\n",
       "      <td>Mahalo</td>\n",
       "      <td>web</td>\n",
       "      <td>40.0</td>\n",
       "      <td>2007</td>\n",
       "      <td>NaN</td>\n",
       "      <td>$21M</td>\n",
       "      <td>[{'description': '', 'address1': '3525 Eastham...</td>\n",
       "    </tr>\n",
       "  </tbody>\n",
       "</table>\n",
       "</div>"
      ],
      "text/plain": [
       "                        _id      name category_code  number_of_employees  \\\n",
       "0  52cdef7c4bab8bd675297d97    Scribd          news                 50.0   \n",
       "1  52cdef7c4bab8bd675297d9c   MeetMoi        social                 15.0   \n",
       "2  52cdef7c4bab8bd675297da0  Babelgum   games_video                  NaN   \n",
       "3  52cdef7c4bab8bd675297daa   Sparter   games_video                  NaN   \n",
       "4  52cdef7c4bab8bd675297da9    Mahalo           web                 40.0   \n",
       "\n",
       "   founded_year  deadpooled_year total_money_raised  \\\n",
       "0          2007              NaN             $25.8M   \n",
       "1          2007              NaN             $5.58M   \n",
       "2          2007           2013.0             $13.2M   \n",
       "3          2007           2008.0                 $0   \n",
       "4          2007              NaN               $21M   \n",
       "\n",
       "                                             offices  \n",
       "0  [{'description': 'HQ', 'address1': '539 Bryant...  \n",
       "1  [{'description': None, 'address1': '', 'addres...  \n",
       "2  [{'description': '', 'address1': '', 'address2...  \n",
       "3  [{'description': None, 'address1': None, 'addr...  \n",
       "4  [{'description': '', 'address1': '3525 Eastham...  "
      ]
     },
     "execution_count": 125,
     "metadata": {},
     "output_type": "execute_result"
    }
   ],
   "source": [
    "clean_companies = pd.DataFrame(companies)\n",
    "clean_companies.head()"
   ]
  },
  {
   "cell_type": "markdown",
   "metadata": {},
   "source": [
    "#### Apply Location Function ####"
   ]
  },
  {
   "cell_type": "code",
   "execution_count": 126,
   "metadata": {},
   "outputs": [],
   "source": [
    "geo_office = clean_companies[[\"offices\"]].apply(getGeoLocation, result_type=\"expand\", axis=1) #Aplico la función"
   ]
  },
  {
   "cell_type": "markdown",
   "metadata": {},
   "source": [
    "#### Join data to create Principal Office ####"
   ]
  },
  {
   "cell_type": "code",
   "execution_count": 127,
   "metadata": {},
   "outputs": [],
   "source": [
    "df_clean = pd.concat([clean_companies,geo_office], axis=1)[[\"principal_office\"]]"
   ]
  },
  {
   "cell_type": "code",
   "execution_count": 128,
   "metadata": {},
   "outputs": [
    {
     "data": {
      "text/html": [
       "<div>\n",
       "<style scoped>\n",
       "    .dataframe tbody tr th:only-of-type {\n",
       "        vertical-align: middle;\n",
       "    }\n",
       "\n",
       "    .dataframe tbody tr th {\n",
       "        vertical-align: top;\n",
       "    }\n",
       "\n",
       "    .dataframe thead th {\n",
       "        text-align: right;\n",
       "    }\n",
       "</style>\n",
       "<table border=\"1\" class=\"dataframe\">\n",
       "  <thead>\n",
       "    <tr style=\"text-align: right;\">\n",
       "      <th></th>\n",
       "      <th>_id</th>\n",
       "      <th>name</th>\n",
       "      <th>category_code</th>\n",
       "      <th>number_of_employees</th>\n",
       "      <th>founded_year</th>\n",
       "      <th>deadpooled_year</th>\n",
       "      <th>total_money_raised</th>\n",
       "      <th>offices</th>\n",
       "      <th>geoDescription</th>\n",
       "    </tr>\n",
       "  </thead>\n",
       "  <tbody>\n",
       "    <tr>\n",
       "      <th>0</th>\n",
       "      <td>52cdef7c4bab8bd675297d97</td>\n",
       "      <td>Scribd</td>\n",
       "      <td>news</td>\n",
       "      <td>50.0</td>\n",
       "      <td>2007</td>\n",
       "      <td>NaN</td>\n",
       "      <td>$25.8M</td>\n",
       "      <td>[{'description': 'HQ', 'address1': '539 Bryant...</td>\n",
       "      <td>{'type': 'Point', 'coordinates': [-122.404052,...</td>\n",
       "    </tr>\n",
       "    <tr>\n",
       "      <th>1</th>\n",
       "      <td>52cdef7c4bab8bd675297d9c</td>\n",
       "      <td>MeetMoi</td>\n",
       "      <td>social</td>\n",
       "      <td>15.0</td>\n",
       "      <td>2007</td>\n",
       "      <td>NaN</td>\n",
       "      <td>$5.58M</td>\n",
       "      <td>[{'description': None, 'address1': '', 'addres...</td>\n",
       "      <td>{'type': 'Point', 'coordinates': [-73.985506, ...</td>\n",
       "    </tr>\n",
       "    <tr>\n",
       "      <th>2</th>\n",
       "      <td>52cdef7c4bab8bd675297da0</td>\n",
       "      <td>Babelgum</td>\n",
       "      <td>games_video</td>\n",
       "      <td>NaN</td>\n",
       "      <td>2007</td>\n",
       "      <td>2013.0</td>\n",
       "      <td>$13.2M</td>\n",
       "      <td>[{'description': '', 'address1': '', 'address2...</td>\n",
       "      <td>{'type': 'Point', 'coordinates': [-6.267494, 5...</td>\n",
       "    </tr>\n",
       "    <tr>\n",
       "      <th>3</th>\n",
       "      <td>52cdef7c4bab8bd675297daa</td>\n",
       "      <td>Sparter</td>\n",
       "      <td>games_video</td>\n",
       "      <td>NaN</td>\n",
       "      <td>2007</td>\n",
       "      <td>2008.0</td>\n",
       "      <td>$0</td>\n",
       "      <td>[{'description': None, 'address1': None, 'addr...</td>\n",
       "      <td>{'type': 'Point', 'coordinates': [-95.712891, ...</td>\n",
       "    </tr>\n",
       "    <tr>\n",
       "      <th>4</th>\n",
       "      <td>52cdef7c4bab8bd675297da9</td>\n",
       "      <td>Mahalo</td>\n",
       "      <td>web</td>\n",
       "      <td>40.0</td>\n",
       "      <td>2007</td>\n",
       "      <td>NaN</td>\n",
       "      <td>$21M</td>\n",
       "      <td>[{'description': '', 'address1': '3525 Eastham...</td>\n",
       "      <td>{'type': 'Point', 'coordinates': [-118.487267,...</td>\n",
       "    </tr>\n",
       "  </tbody>\n",
       "</table>\n",
       "</div>"
      ],
      "text/plain": [
       "                        _id      name category_code  number_of_employees  \\\n",
       "0  52cdef7c4bab8bd675297d97    Scribd          news                 50.0   \n",
       "1  52cdef7c4bab8bd675297d9c   MeetMoi        social                 15.0   \n",
       "2  52cdef7c4bab8bd675297da0  Babelgum   games_video                  NaN   \n",
       "3  52cdef7c4bab8bd675297daa   Sparter   games_video                  NaN   \n",
       "4  52cdef7c4bab8bd675297da9    Mahalo           web                 40.0   \n",
       "\n",
       "   founded_year  deadpooled_year total_money_raised  \\\n",
       "0          2007              NaN             $25.8M   \n",
       "1          2007              NaN             $5.58M   \n",
       "2          2007           2013.0             $13.2M   \n",
       "3          2007           2008.0                 $0   \n",
       "4          2007              NaN               $21M   \n",
       "\n",
       "                                             offices  \\\n",
       "0  [{'description': 'HQ', 'address1': '539 Bryant...   \n",
       "1  [{'description': None, 'address1': '', 'addres...   \n",
       "2  [{'description': '', 'address1': '', 'address2...   \n",
       "3  [{'description': None, 'address1': None, 'addr...   \n",
       "4  [{'description': '', 'address1': '3525 Eastham...   \n",
       "\n",
       "                                      geoDescription  \n",
       "0  {'type': 'Point', 'coordinates': [-122.404052,...  \n",
       "1  {'type': 'Point', 'coordinates': [-73.985506, ...  \n",
       "2  {'type': 'Point', 'coordinates': [-6.267494, 5...  \n",
       "3  {'type': 'Point', 'coordinates': [-95.712891, ...  \n",
       "4  {'type': 'Point', 'coordinates': [-118.487267,...  "
      ]
     },
     "execution_count": 128,
     "metadata": {},
     "output_type": "execute_result"
    }
   ],
   "source": [
    "clean_companies['geoDescription'] = df_clean\n",
    "clean_companies.head()"
   ]
  },
  {
   "cell_type": "code",
   "execution_count": 129,
   "metadata": {},
   "outputs": [
    {
     "data": {
      "text/plain": [
       "web                 1167\n",
       "software             514\n",
       "games_video          365\n",
       "advertising          287\n",
       "mobile               277\n",
       "other                222\n",
       "ecommerce            222\n",
       "enterprise           213\n",
       "network_hosting      160\n",
       "public_relations     154\n",
       "consulting           141\n",
       "search               115\n",
       "cleantech             61\n",
       "biotech               53\n",
       "hardware              37\n",
       "social                29\n",
       "analytics             29\n",
       "security              24\n",
       "education             19\n",
       "news                  18\n",
       "music                 18\n",
       "finance               16\n",
       "photo_video           14\n",
       "travel                14\n",
       "messaging             12\n",
       "sports                 8\n",
       "health                 8\n",
       "legal                  6\n",
       "semiconductor          6\n",
       "medical                6\n",
       "fashion                5\n",
       "hospitality            4\n",
       "real_estate            4\n",
       "design                 3\n",
       "manufacturing          3\n",
       "nonprofit              1\n",
       "nanotech               1\n",
       "automotive             1\n",
       "transportation         1\n",
       "Name: category_code, dtype: int64"
      ]
     },
     "execution_count": 129,
     "metadata": {},
     "output_type": "execute_result"
    }
   ],
   "source": [
    "clean_companies['category_code'].value_counts()"
   ]
  },
  {
   "cell_type": "markdown",
   "metadata": {},
   "source": [
    "#### Just Tech Business ####"
   ]
  },
  {
   "cell_type": "code",
   "execution_count": 130,
   "metadata": {},
   "outputs": [],
   "source": [
    "list_category = {'web': 'tech', 'software': 'tech', \n",
    "                 'games_video':'tech', 'advertising':'tech', 'mobile':'tech', 'ecommerce':'tech', 'search':'tech', 'network_hosting':'tech'\n",
    "                ,'consulting':'tech','hardware':'tech', 'biotech':'tech', 'cleantech':'tech', 'analytics':'tech','hardware':'tech', 'photo_video':'tech',\n",
    "                'messaging':'tech', 'design':'tech'}"
   ]
  },
  {
   "cell_type": "code",
   "execution_count": 131,
   "metadata": {},
   "outputs": [],
   "source": [
    "clean_companies = clean_companies.replace(to_replace=list_category, inplace=False)"
   ]
  },
  {
   "cell_type": "markdown",
   "metadata": {},
   "source": [
    "#### Removing Null Values ####"
   ]
  },
  {
   "cell_type": "code",
   "execution_count": 132,
   "metadata": {},
   "outputs": [],
   "source": [
    "clean_companies['founded_year'] = clean_companies['founded_year'].dropna(axis=0).astype('int64', inplace=True)"
   ]
  },
  {
   "cell_type": "markdown",
   "metadata": {},
   "source": [
    "#### Create Longitude and Latitude Columns ####"
   ]
  },
  {
   "cell_type": "code",
   "execution_count": 133,
   "metadata": {},
   "outputs": [],
   "source": [
    "latitude = [d[0].get('latitude') for d in clean_companies.offices]\n",
    "longitude = [d[0].get('longitude') for d in clean_companies.offices]"
   ]
  },
  {
   "cell_type": "code",
   "execution_count": 134,
   "metadata": {},
   "outputs": [],
   "source": [
    "clean_companies['latitude'] = latitude\n",
    "clean_companies['longitude'] = longitude"
   ]
  },
  {
   "cell_type": "markdown",
   "metadata": {},
   "source": [
    "#### City and Country in two Columns ####"
   ]
  },
  {
   "cell_type": "code",
   "execution_count": 135,
   "metadata": {},
   "outputs": [],
   "source": [
    "city = [d[0].get('city') for d in clean_companies.offices]\n",
    "country = [d[0].get('country_code') for d in clean_companies.offices]"
   ]
  },
  {
   "cell_type": "code",
   "execution_count": 136,
   "metadata": {},
   "outputs": [
    {
     "data": {
      "text/html": [
       "<div>\n",
       "<style scoped>\n",
       "    .dataframe tbody tr th:only-of-type {\n",
       "        vertical-align: middle;\n",
       "    }\n",
       "\n",
       "    .dataframe tbody tr th {\n",
       "        vertical-align: top;\n",
       "    }\n",
       "\n",
       "    .dataframe thead th {\n",
       "        text-align: right;\n",
       "    }\n",
       "</style>\n",
       "<table border=\"1\" class=\"dataframe\">\n",
       "  <thead>\n",
       "    <tr style=\"text-align: right;\">\n",
       "      <th></th>\n",
       "      <th>_id</th>\n",
       "      <th>name</th>\n",
       "      <th>category_code</th>\n",
       "      <th>number_of_employees</th>\n",
       "      <th>founded_year</th>\n",
       "      <th>deadpooled_year</th>\n",
       "      <th>total_money_raised</th>\n",
       "      <th>offices</th>\n",
       "      <th>geoDescription</th>\n",
       "      <th>latitude</th>\n",
       "      <th>longitude</th>\n",
       "      <th>city</th>\n",
       "      <th>country</th>\n",
       "    </tr>\n",
       "  </thead>\n",
       "  <tbody>\n",
       "    <tr>\n",
       "      <th>0</th>\n",
       "      <td>52cdef7c4bab8bd675297d97</td>\n",
       "      <td>Scribd</td>\n",
       "      <td>news</td>\n",
       "      <td>50.0</td>\n",
       "      <td>2007</td>\n",
       "      <td>NaN</td>\n",
       "      <td>$25.8M</td>\n",
       "      <td>[{'description': 'HQ', 'address1': '539 Bryant...</td>\n",
       "      <td>{'type': 'Point', 'coordinates': [-122.404052,...</td>\n",
       "      <td>37.789634</td>\n",
       "      <td>-122.404052</td>\n",
       "      <td>San Francisco</td>\n",
       "      <td>USA</td>\n",
       "    </tr>\n",
       "    <tr>\n",
       "      <th>1</th>\n",
       "      <td>52cdef7c4bab8bd675297d9c</td>\n",
       "      <td>MeetMoi</td>\n",
       "      <td>social</td>\n",
       "      <td>15.0</td>\n",
       "      <td>2007</td>\n",
       "      <td>NaN</td>\n",
       "      <td>$5.58M</td>\n",
       "      <td>[{'description': None, 'address1': '', 'addres...</td>\n",
       "      <td>{'type': 'Point', 'coordinates': [-73.985506, ...</td>\n",
       "      <td>40.757929</td>\n",
       "      <td>-73.985506</td>\n",
       "      <td>New York City</td>\n",
       "      <td>USA</td>\n",
       "    </tr>\n",
       "    <tr>\n",
       "      <th>2</th>\n",
       "      <td>52cdef7c4bab8bd675297da0</td>\n",
       "      <td>Babelgum</td>\n",
       "      <td>tech</td>\n",
       "      <td>NaN</td>\n",
       "      <td>2007</td>\n",
       "      <td>2013.0</td>\n",
       "      <td>$13.2M</td>\n",
       "      <td>[{'description': '', 'address1': '', 'address2...</td>\n",
       "      <td>{'type': 'Point', 'coordinates': [-6.267494, 5...</td>\n",
       "      <td>53.344104</td>\n",
       "      <td>-6.267494</td>\n",
       "      <td>London</td>\n",
       "      <td>GBR</td>\n",
       "    </tr>\n",
       "    <tr>\n",
       "      <th>3</th>\n",
       "      <td>52cdef7c4bab8bd675297daa</td>\n",
       "      <td>Sparter</td>\n",
       "      <td>tech</td>\n",
       "      <td>NaN</td>\n",
       "      <td>2007</td>\n",
       "      <td>2008.0</td>\n",
       "      <td>$0</td>\n",
       "      <td>[{'description': None, 'address1': None, 'addr...</td>\n",
       "      <td>{'type': 'Point', 'coordinates': [-95.712891, ...</td>\n",
       "      <td>37.090240</td>\n",
       "      <td>-95.712891</td>\n",
       "      <td>None</td>\n",
       "      <td>USA</td>\n",
       "    </tr>\n",
       "    <tr>\n",
       "      <th>4</th>\n",
       "      <td>52cdef7c4bab8bd675297da9</td>\n",
       "      <td>Mahalo</td>\n",
       "      <td>tech</td>\n",
       "      <td>40.0</td>\n",
       "      <td>2007</td>\n",
       "      <td>NaN</td>\n",
       "      <td>$21M</td>\n",
       "      <td>[{'description': '', 'address1': '3525 Eastham...</td>\n",
       "      <td>{'type': 'Point', 'coordinates': [-118.487267,...</td>\n",
       "      <td>34.017606</td>\n",
       "      <td>-118.487267</td>\n",
       "      <td>Culver City</td>\n",
       "      <td>USA</td>\n",
       "    </tr>\n",
       "  </tbody>\n",
       "</table>\n",
       "</div>"
      ],
      "text/plain": [
       "                        _id      name category_code  number_of_employees  \\\n",
       "0  52cdef7c4bab8bd675297d97    Scribd          news                 50.0   \n",
       "1  52cdef7c4bab8bd675297d9c   MeetMoi        social                 15.0   \n",
       "2  52cdef7c4bab8bd675297da0  Babelgum          tech                  NaN   \n",
       "3  52cdef7c4bab8bd675297daa   Sparter          tech                  NaN   \n",
       "4  52cdef7c4bab8bd675297da9    Mahalo          tech                 40.0   \n",
       "\n",
       "   founded_year  deadpooled_year total_money_raised  \\\n",
       "0          2007              NaN             $25.8M   \n",
       "1          2007              NaN             $5.58M   \n",
       "2          2007           2013.0             $13.2M   \n",
       "3          2007           2008.0                 $0   \n",
       "4          2007              NaN               $21M   \n",
       "\n",
       "                                             offices  \\\n",
       "0  [{'description': 'HQ', 'address1': '539 Bryant...   \n",
       "1  [{'description': None, 'address1': '', 'addres...   \n",
       "2  [{'description': '', 'address1': '', 'address2...   \n",
       "3  [{'description': None, 'address1': None, 'addr...   \n",
       "4  [{'description': '', 'address1': '3525 Eastham...   \n",
       "\n",
       "                                      geoDescription   latitude   longitude  \\\n",
       "0  {'type': 'Point', 'coordinates': [-122.404052,...  37.789634 -122.404052   \n",
       "1  {'type': 'Point', 'coordinates': [-73.985506, ...  40.757929  -73.985506   \n",
       "2  {'type': 'Point', 'coordinates': [-6.267494, 5...  53.344104   -6.267494   \n",
       "3  {'type': 'Point', 'coordinates': [-95.712891, ...  37.090240  -95.712891   \n",
       "4  {'type': 'Point', 'coordinates': [-118.487267,...  34.017606 -118.487267   \n",
       "\n",
       "            city country  \n",
       "0  San Francisco     USA  \n",
       "1  New York City     USA  \n",
       "2         London     GBR  \n",
       "3           None     USA  \n",
       "4    Culver City     USA  "
      ]
     },
     "execution_count": 136,
     "metadata": {},
     "output_type": "execute_result"
    }
   ],
   "source": [
    "clean_companies['city'] = city\n",
    "clean_companies['country'] = country\n",
    "clean_companies.head()"
   ]
  },
  {
   "cell_type": "markdown",
   "metadata": {},
   "source": [
    "#### Deleting useless Columns ####"
   ]
  },
  {
   "cell_type": "code",
   "execution_count": 137,
   "metadata": {},
   "outputs": [],
   "source": [
    "def dropcolumns(data, columns):\n",
    "        data = data.drop(columns, axis=1)\n",
    "        return data"
   ]
  },
  {
   "cell_type": "code",
   "execution_count": 138,
   "metadata": {},
   "outputs": [],
   "source": [
    "clean_companies = dropcolumns(clean_companies, ['offices', '_id'])"
   ]
  },
  {
   "cell_type": "markdown",
   "metadata": {},
   "source": [
    "#### Cleaning Deadpooleds ####"
   ]
  },
  {
   "cell_type": "code",
   "execution_count": 139,
   "metadata": {},
   "outputs": [],
   "source": [
    "clean_companies = clean_companies[clean_companies['deadpooled_year'].isna()] \n"
   ]
  },
  {
   "cell_type": "markdown",
   "metadata": {},
   "source": [
    "#### Apply function to clean some locations ####"
   ]
  },
  {
   "cell_type": "code",
   "execution_count": 90,
   "metadata": {},
   "outputs": [],
   "source": [
    "clean_companies['city'] = clean_companies['city'].apply(cleanLocation)\n"
   ]
  },
  {
   "cell_type": "markdown",
   "metadata": {},
   "source": [
    "#### Final Cleaning Columns ####"
   ]
  },
  {
   "cell_type": "code",
   "execution_count": 91,
   "metadata": {},
   "outputs": [],
   "source": [
    "clean_companies.dropna(subset=['founded_year', 'latitude', 'longitude'], inplace=True)"
   ]
  },
  {
   "cell_type": "code",
   "execution_count": 92,
   "metadata": {},
   "outputs": [],
   "source": [
    "clean_companies = dropcolumns(clean_companies, 'deadpooled_year')"
   ]
  },
  {
   "cell_type": "markdown",
   "metadata": {},
   "source": [
    "#### Apply function to moneyClean ####"
   ]
  },
  {
   "cell_type": "code",
   "execution_count": 141,
   "metadata": {},
   "outputs": [],
   "source": [
    "clean_companies['total_money_raised'] = clean_companies['total_money_raised'].apply(moneyClean)"
   ]
  },
  {
   "cell_type": "markdown",
   "metadata": {},
   "source": [
    "#### Fill Null Values ####"
   ]
  },
  {
   "cell_type": "code",
   "execution_count": 94,
   "metadata": {},
   "outputs": [],
   "source": [
    "def fillNaN(data, col):\n",
    "    [data[col].fillna(0, inplace=True) for col in data.columns]\n",
    "    return data"
   ]
  },
  {
   "cell_type": "code",
   "execution_count": 95,
   "metadata": {},
   "outputs": [],
   "source": [
    "clean_companies = fillNaN(clean_companies, 'number_of_employees')"
   ]
  },
  {
   "cell_type": "markdown",
   "metadata": {},
   "source": [
    "#### Just Business with employees, money raised and in the USA ####"
   ]
  },
  {
   "cell_type": "code",
   "execution_count": 96,
   "metadata": {},
   "outputs": [],
   "source": [
    "clean_companies = clean_companies[clean_companies['number_of_employees'] != 0.0]\n",
    "clean_companies = clean_companies[clean_companies['total_money_raised']!=0]"
   ]
  },
  {
   "cell_type": "code",
   "execution_count": 97,
   "metadata": {},
   "outputs": [],
   "source": [
    "clean_companies = clean_companies[clean_companies['country'] != 'USA']"
   ]
  },
  {
   "cell_type": "markdown",
   "metadata": {},
   "source": [
    "#### Outputs ####"
   ]
  },
  {
   "cell_type": "code",
   "execution_count": 98,
   "metadata": {},
   "outputs": [
    {
     "data": {
      "text/html": [
       "<div>\n",
       "<style scoped>\n",
       "    .dataframe tbody tr th:only-of-type {\n",
       "        vertical-align: middle;\n",
       "    }\n",
       "\n",
       "    .dataframe tbody tr th {\n",
       "        vertical-align: top;\n",
       "    }\n",
       "\n",
       "    .dataframe thead th {\n",
       "        text-align: right;\n",
       "    }\n",
       "</style>\n",
       "<table border=\"1\" class=\"dataframe\">\n",
       "  <thead>\n",
       "    <tr style=\"text-align: right;\">\n",
       "      <th></th>\n",
       "      <th>name</th>\n",
       "      <th>category_code</th>\n",
       "      <th>number_of_employees</th>\n",
       "      <th>founded_year</th>\n",
       "      <th>total_money_raised</th>\n",
       "      <th>geoDescription</th>\n",
       "      <th>latitude</th>\n",
       "      <th>longitude</th>\n",
       "      <th>city</th>\n",
       "      <th>country</th>\n",
       "    </tr>\n",
       "  </thead>\n",
       "  <tbody>\n",
       "    <tr>\n",
       "      <th>0</th>\n",
       "      <td>Wakoopa</td>\n",
       "      <td>tech</td>\n",
       "      <td>8.0</td>\n",
       "      <td>2007</td>\n",
       "      <td>1000000</td>\n",
       "      <td>{'type': 'Point', 'coordinates': [4.8948623, 5...</td>\n",
       "      <td>52.374523</td>\n",
       "      <td>4.894862</td>\n",
       "      <td>Amsterdam</td>\n",
       "      <td>NLD</td>\n",
       "    </tr>\n",
       "    <tr>\n",
       "      <th>1</th>\n",
       "      <td>boo-box</td>\n",
       "      <td>tech</td>\n",
       "      <td>50.0</td>\n",
       "      <td>2007</td>\n",
       "      <td>300</td>\n",
       "      <td>{'type': 'Point', 'coordinates': [-46.679287, ...</td>\n",
       "      <td>-23.558584</td>\n",
       "      <td>-46.679287</td>\n",
       "      <td>Sao Paulo</td>\n",
       "      <td>BRA</td>\n",
       "    </tr>\n",
       "    <tr>\n",
       "      <th>2</th>\n",
       "      <td>Seedcamp</td>\n",
       "      <td>finance</td>\n",
       "      <td>4.0</td>\n",
       "      <td>2007</td>\n",
       "      <td>5000000</td>\n",
       "      <td>{'type': 'Point', 'coordinates': [-0.1418973, ...</td>\n",
       "      <td>51.510880</td>\n",
       "      <td>-0.141897</td>\n",
       "      <td>London</td>\n",
       "      <td>GBR</td>\n",
       "    </tr>\n",
       "    <tr>\n",
       "      <th>3</th>\n",
       "      <td>Flixwagon</td>\n",
       "      <td>tech</td>\n",
       "      <td>10.0</td>\n",
       "      <td>2007</td>\n",
       "      <td>2500000</td>\n",
       "      <td>{'type': 'Point', 'coordinates': [34.7595, 32....</td>\n",
       "      <td>32.055400</td>\n",
       "      <td>34.759500</td>\n",
       "      <td>Tel-Aviv</td>\n",
       "      <td>ISR</td>\n",
       "    </tr>\n",
       "    <tr>\n",
       "      <th>4</th>\n",
       "      <td>UnLtdWorld</td>\n",
       "      <td>enterprise</td>\n",
       "      <td>4.0</td>\n",
       "      <td>2007</td>\n",
       "      <td>199</td>\n",
       "      <td>{'type': 'Point', 'coordinates': [-0.0926903, ...</td>\n",
       "      <td>51.522413</td>\n",
       "      <td>-0.092690</td>\n",
       "      <td>London</td>\n",
       "      <td>GBR</td>\n",
       "    </tr>\n",
       "  </tbody>\n",
       "</table>\n",
       "</div>"
      ],
      "text/plain": [
       "         name category_code  number_of_employees  founded_year  \\\n",
       "0     Wakoopa          tech                  8.0          2007   \n",
       "1     boo-box          tech                 50.0          2007   \n",
       "2    Seedcamp       finance                  4.0          2007   \n",
       "3   Flixwagon          tech                 10.0          2007   \n",
       "4  UnLtdWorld    enterprise                  4.0          2007   \n",
       "\n",
       "   total_money_raised                                     geoDescription  \\\n",
       "0             1000000  {'type': 'Point', 'coordinates': [4.8948623, 5...   \n",
       "1                 300  {'type': 'Point', 'coordinates': [-46.679287, ...   \n",
       "2             5000000  {'type': 'Point', 'coordinates': [-0.1418973, ...   \n",
       "3             2500000  {'type': 'Point', 'coordinates': [34.7595, 32....   \n",
       "4                 199  {'type': 'Point', 'coordinates': [-0.0926903, ...   \n",
       "\n",
       "    latitude  longitude       city country  \n",
       "0  52.374523   4.894862  Amsterdam     NLD  \n",
       "1 -23.558584 -46.679287  Sao Paulo     BRA  \n",
       "2  51.510880  -0.141897     London     GBR  \n",
       "3  32.055400  34.759500   Tel-Aviv     ISR  \n",
       "4  51.522413  -0.092690     London     GBR  "
      ]
     },
     "execution_count": 98,
     "metadata": {},
     "output_type": "execute_result"
    }
   ],
   "source": [
    "clean_companies = clean_companies.reset_index(drop=True)\n",
    "\n",
    "clean_companies.head()"
   ]
  },
  {
   "cell_type": "code",
   "execution_count": 99,
   "metadata": {},
   "outputs": [],
   "source": [
    "clean_companies.to_json('./Output/clean_companies.json', orient='records')"
   ]
  },
  {
   "cell_type": "code",
   "execution_count": 100,
   "metadata": {},
   "outputs": [],
   "source": [
    "clean_companies.to_csv('./Output/clean_companies.csv', index=True)"
   ]
  }
 ],
 "metadata": {
  "kernelspec": {
   "display_name": "Python 3",
   "language": "python",
   "name": "python3"
  },
  "language_info": {
   "codemirror_mode": {
    "name": "ipython",
    "version": 3
   },
   "file_extension": ".py",
   "mimetype": "text/x-python",
   "name": "python",
   "nbconvert_exporter": "python",
   "pygments_lexer": "ipython3",
   "version": "3.7.5rc1"
  }
 },
 "nbformat": 4,
 "nbformat_minor": 2
}
